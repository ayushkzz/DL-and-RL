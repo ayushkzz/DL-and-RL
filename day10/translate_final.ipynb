{
 "cells": [
  {
   "cell_type": "code",
   "execution_count": 13,
   "id": "38dc09ad",
   "metadata": {},
   "outputs": [
    {
     "name": "stderr",
     "output_type": "stream",
     "text": [
      "Device set to use cpu\n"
     ]
    }
   ],
   "source": [
    "\n",
    "from transformers import pipeline\n",
    "from langdetect import detect\n",
    "\n",
    "translator = pipeline(\"translation\", model=\"facebook/nllb-200-distilled-600M\")\n",
    "\n",
    "# Mapping from detected langdetect code to NLLB source language codes\n",
    "langdetect_to_nllb = {\n",
    "    'en': 'eng_Latn',\n",
    "    'hi': 'hin_Deva',\n",
    "    'fr': 'fra_Latn',\n",
    "    'es': 'spa_Latn',\n",
    "}\n",
    "\n",
    "def translate(text, target_lang):\n",
    "    try:\n",
    "        detected = detect(text)\n",
    "        source_lang = langdetect_to_nllb.get(detected, 'eng_Latn')\n",
    "    except:\n",
    "        source_lang = 'eng_Latn'\n",
    "        print(\"Could not detect language, defaulting to English.\")\n",
    "    return translator(text, src_lang=source_lang, tgt_lang=target_lang)[0][\"translation_text\"]\n"
   ]
  },
  {
   "cell_type": "code",
   "execution_count": 14,
   "id": "0c737608",
   "metadata": {},
   "outputs": [
    {
     "name": "stdout",
     "output_type": "stream",
     "text": [
      "Original Text: My name is Ayush and I love reading books.\n",
      "Hindi: मेरा नाम आयुष है और मुझे किताबें पढ़ना बहुत पसंद है।\n",
      "French: Je m'appelle Ayush et j'aime lire des livres.\n",
      "Spanish: Mi nombre es Ayush y me encanta leer libros.\n"
     ]
    }
   ],
   "source": [
    "# Input text\n",
    "original = 'My name is Ayush and I love reading books.'\n",
    "\n",
    "# Hardcoded target languages\n",
    "hindi_code = \"hin_Deva\"\n",
    "french_code = \"fra_Latn\"\n",
    "spanish_code = \"spa_Latn\"\n",
    "\n",
    "# Translate\n",
    "hindi = translate(original, target_lang=hindi_code)\n",
    "french = translate(original, target_lang=french_code)\n",
    "spanish = translate(original, target_lang=spanish_code)\n",
    "\n",
    "# Print results\n",
    "print(\"Original Text:\", original)\n",
    "print(\"Hindi:\", hindi)\n",
    "print(\"French:\", french)\n",
    "print(\"Spanish:\", spanish)"
   ]
  }
 ],
 "metadata": {
  "kernelspec": {
   "display_name": "Python 3",
   "language": "python",
   "name": "python3"
  },
  "language_info": {
   "codemirror_mode": {
    "name": "ipython",
    "version": 3
   },
   "file_extension": ".py",
   "mimetype": "text/x-python",
   "name": "python",
   "nbconvert_exporter": "python",
   "pygments_lexer": "ipython3",
   "version": "3.12.2"
  }
 },
 "nbformat": 4,
 "nbformat_minor": 5
}
